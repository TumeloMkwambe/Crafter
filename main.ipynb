{
 "cells": [
  {
   "cell_type": "code",
   "execution_count": 19,
   "id": "e01fdf62-05f8-4101-8807-75c1b3782452",
   "metadata": {},
   "outputs": [],
   "source": [
    "import gym as old_gym \n",
    "import stable_baselines3 as sb3  \n",
    "import crafter \n",
    "from shimmy import GymV21CompatibilityV0 \n",
    "from gym.envs.registration import register \n",
    "import matplotlib.pyplot as plt \n",
    "import wandb \n",
    "import cv2"
   ]
  },
  {
   "cell_type": "code",
   "execution_count": 30,
   "id": "530b25f6-22dc-445b-a90e-2a4c5f537b1e",
   "metadata": {},
   "outputs": [],
   "source": [
    "def image_display(img):\n",
    "    \n",
    "    plt.figure(figsize = (6, 6))\n",
    "    \n",
    "    plt.imshow(cv2.cvtColor(img, cv2.COLOR_BGR2RGB))\n",
    "    \n",
    "    plt.axis('off')\n",
    "    \n",
    "    plt.show()"
   ]
  },
  {
   "cell_type": "code",
   "execution_count": 21,
   "id": "9b8106b2-9433-4ada-bcc2-795f1b9b3879",
   "metadata": {},
   "outputs": [],
   "source": [
    "def init_env():\n",
    "    \n",
    "    register(id = 'CrafterNoReward-v1', entry_point = crafter.Env)\n",
    "    \n",
    "    env = old_gym.make('CrafterNoReward-v1') \n",
    "    \n",
    "    env = crafter.Recorder( env, './path/to/logdir', save_stats = True, save_video = False, save_episode = False, ) \n",
    "    \n",
    "    env = GymV21CompatibilityV0(env = env) \n",
    "    \n",
    "    return env "
   ]
  },
  {
   "cell_type": "code",
   "execution_count": 28,
   "id": "f46be44f-dd64-46c4-9c36-c742b0779a85",
   "metadata": {},
   "outputs": [],
   "source": [
    "def episode(env, config, policy): \n",
    "    \n",
    "    wandb.init(entity = \"reinforcement-learning-wits\", project = \"Crafter\", name = \"\", config = config) \n",
    "    \n",
    "    observation, info = env.reset() \n",
    "    \n",
    "    done = False \n",
    "    \n",
    "    reward_sum = 0 \n",
    "    \n",
    "    while not done:\n",
    "        \n",
    "        action = policy(observation)\n",
    "        \n",
    "        observation, reward, done, _, info = env.step(action) \n",
    "        \n",
    "        info['achievements']['reward'] = reward \n",
    "        \n",
    "        wandb.log(info['achievements']) \n",
    "    \n",
    "    wandb.finish()"
   ]
  },
  {
   "cell_type": "code",
   "execution_count": null,
   "id": "4f617d9c-13d3-4a1b-a805-5098871bc6d2",
   "metadata": {},
   "outputs": [],
   "source": [
    "env = init_env()\n",
    "\n",
    "episode(env, {})"
   ]
  },
  {
   "cell_type": "code",
   "execution_count": null,
   "id": "616e1247-9906-438b-9301-197a58ae6062",
   "metadata": {},
   "outputs": [],
   "source": []
  },
  {
   "cell_type": "code",
   "execution_count": null,
   "id": "965ee3ed-a834-42df-97ad-d868426f4817",
   "metadata": {},
   "outputs": [],
   "source": []
  },
  {
   "cell_type": "code",
   "execution_count": null,
   "id": "d89d71cf-9170-49fe-a5a1-bf98e67a77c8",
   "metadata": {},
   "outputs": [],
   "source": []
  }
 ],
 "metadata": {
  "kernelspec": {
   "display_name": "Python 3 (ipykernel)",
   "language": "python",
   "name": "python3"
  },
  "language_info": {
   "codemirror_mode": {
    "name": "ipython",
    "version": 3
   },
   "file_extension": ".py",
   "mimetype": "text/x-python",
   "name": "python",
   "nbconvert_exporter": "python",
   "pygments_lexer": "ipython3",
   "version": "3.10.18"
  }
 },
 "nbformat": 4,
 "nbformat_minor": 5
}
