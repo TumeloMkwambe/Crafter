{
 "cells": [
  {
   "cell_type": "code",
   "execution_count": 89,
   "id": "a7312626-916f-4327-a937-a4df977808fe",
   "metadata": {},
   "outputs": [],
   "source": [
    "import numpy as np\n",
    "\n",
    "if not hasattr(np, \"bool8\"):\n",
    "\n",
    "    np.bool8 = np.bool_"
   ]
  },
  {
   "cell_type": "code",
   "execution_count": 90,
   "id": "e01fdf62-05f8-4101-8807-75c1b3782452",
   "metadata": {},
   "outputs": [],
   "source": [
    "from shimmy import GymV21CompatibilityV0\n",
    "import stable_baselines3 as sb3\n",
    "import matplotlib.pyplot as plt\n",
    "import gymnasium\n",
    "import gym\n",
    "import crafter\n",
    "import wandb\n",
    "import cv2"
   ]
  },
  {
   "cell_type": "code",
   "execution_count": 91,
   "id": "530b25f6-22dc-445b-a90e-2a4c5f537b1e",
   "metadata": {},
   "outputs": [],
   "source": [
    "def image_display(img):\n",
    "    \n",
    "    plt.figure(figsize = (6, 6))\n",
    "    \n",
    "    plt.imshow(cv2.cvtColor(img, cv2.COLOR_BGR2RGB))\n",
    "    \n",
    "    plt.axis('off')\n",
    "    \n",
    "    plt.show()"
   ]
  },
  {
   "cell_type": "code",
   "execution_count": 92,
   "id": "9b8106b2-9433-4ada-bcc2-795f1b9b3879",
   "metadata": {},
   "outputs": [],
   "source": [
    "def init_env():\n",
    "    \n",
    "    gym.envs.registration.register(id = 'CrafterNoReward-v1', entry_point = crafter.Env)\n",
    "    \n",
    "    env = gym.make('CrafterNoReward-v1')\n",
    "\n",
    "    if not hasattr(env, \"seed\"):\n",
    "\n",
    "        env.seed = lambda seed = None: None\n",
    "    \n",
    "    env = crafter.Recorder(\n",
    "        env, './path/to/logdir',\n",
    "        save_stats=True,\n",
    "        save_video=False,\n",
    "        save_episode=False,\n",
    "    )\n",
    "    \n",
    "    env = GymV21CompatibilityV0(env = env)\n",
    "    \n",
    "    return env "
   ]
  },
  {
   "cell_type": "code",
   "execution_count": 114,
   "id": "f46be44f-dd64-46c4-9c36-c742b0779a85",
   "metadata": {},
   "outputs": [],
   "source": [
    "def evaluation_episode(env, model, config):\n",
    "    \n",
    "    wandb.init(entity = \"reinforcement-learning-wits\", project = \"Crafter\", name = \"\", config = config) \n",
    "    \n",
    "    observation, info = env.reset() \n",
    "    \n",
    "    terminated = False\n",
    "    \n",
    "    reward_sum = 0\n",
    "    \n",
    "    while not terminated:\n",
    "        \n",
    "        action, _ = model.predict(observation, deterministic = True)\n",
    "        \n",
    "        observation, reward, terminated, truncated, info = env.step(action)\n",
    "        \n",
    "        info['achievements']['reward'] = reward\n",
    "        \n",
    "        wandb.log(info['achievements'])\n",
    "    \n",
    "    wandb.finish()"
   ]
  },
  {
   "cell_type": "code",
   "execution_count": 115,
   "id": "fdec71fc-76df-46b6-95a4-bd21857958f5",
   "metadata": {},
   "outputs": [
    {
     "name": "stderr",
     "output_type": "stream",
     "text": [
      "/home/vmuser/anaconda3/envs/crafter_env/lib/python3.10/site-packages/gym/envs/registration.py:498: UserWarning: \u001b[33mWARN: Overriding environment CrafterNoReward-v1 already in registry.\u001b[0m\n",
      "  logger.warn(f\"Overriding environment {new_spec.id} already in registry.\")\n"
     ]
    }
   ],
   "source": [
    "env_vec = sb3.common.env_util.make_vec_env(env_id = init_env, n_envs = 8)"
   ]
  },
  {
   "cell_type": "code",
   "execution_count": 116,
   "id": "efa3a47a-40e4-4952-b62b-d1eb67aa4896",
   "metadata": {},
   "outputs": [
    {
     "name": "stdout",
     "output_type": "stream",
     "text": [
      "Using cpu device\n",
      "Wrapping the env in a VecTransposeImage.\n",
      "---------------------------------\n",
      "| rollout/           |          |\n",
      "|    ep_len_mean     | 167      |\n",
      "|    ep_rew_mean     | 1.35     |\n",
      "| time/              |          |\n",
      "|    fps             | 106      |\n",
      "|    iterations      | 1        |\n",
      "|    time_elapsed    | 19       |\n",
      "|    total_timesteps | 2048     |\n",
      "---------------------------------\n",
      "----------------------------------------\n",
      "| rollout/                |            |\n",
      "|    ep_len_mean          | 176        |\n",
      "|    ep_rew_mean          | 1.1        |\n",
      "| time/                   |            |\n",
      "|    fps                  | 114        |\n",
      "|    iterations           | 2          |\n",
      "|    time_elapsed         | 35         |\n",
      "|    total_timesteps      | 4096       |\n",
      "| train/                  |            |\n",
      "|    approx_kl            | 0.01408878 |\n",
      "|    clip_fraction        | 0.131      |\n",
      "|    clip_range           | 0.2        |\n",
      "|    entropy_loss         | -2.82      |\n",
      "|    explained_variance   | -0.0258    |\n",
      "|    learning_rate        | 0.00025    |\n",
      "|    loss                 | -0.0152    |\n",
      "|    n_updates            | 10         |\n",
      "|    policy_gradient_loss | -0.0184    |\n",
      "|    value_loss           | 0.0536     |\n",
      "----------------------------------------\n",
      "-----------------------------------------\n",
      "| rollout/                |             |\n",
      "|    ep_len_mean          | 176         |\n",
      "|    ep_rew_mean          | 1.43        |\n",
      "| time/                   |             |\n",
      "|    fps                  | 111         |\n",
      "|    iterations           | 3           |\n",
      "|    time_elapsed         | 55          |\n",
      "|    total_timesteps      | 6144        |\n",
      "| train/                  |             |\n",
      "|    approx_kl            | 0.014410226 |\n",
      "|    clip_fraction        | 0.183       |\n",
      "|    clip_range           | 0.2         |\n",
      "|    entropy_loss         | -2.78       |\n",
      "|    explained_variance   | 0.478       |\n",
      "|    learning_rate        | 0.00025     |\n",
      "|    loss                 | -0.062      |\n",
      "|    n_updates            | 20          |\n",
      "|    policy_gradient_loss | -0.0299     |\n",
      "|    value_loss           | 0.0623      |\n",
      "-----------------------------------------\n",
      "-----------------------------------------\n",
      "| rollout/                |             |\n",
      "|    ep_len_mean          | 176         |\n",
      "|    ep_rew_mean          | 1.57        |\n",
      "| time/                   |             |\n",
      "|    fps                  | 109         |\n",
      "|    iterations           | 4           |\n",
      "|    time_elapsed         | 75          |\n",
      "|    total_timesteps      | 8192        |\n",
      "| train/                  |             |\n",
      "|    approx_kl            | 0.016254183 |\n",
      "|    clip_fraction        | 0.186       |\n",
      "|    clip_range           | 0.2         |\n",
      "|    entropy_loss         | -2.77       |\n",
      "|    explained_variance   | 0.476       |\n",
      "|    learning_rate        | 0.00025     |\n",
      "|    loss                 | -0.0493     |\n",
      "|    n_updates            | 30          |\n",
      "|    policy_gradient_loss | -0.0308     |\n",
      "|    value_loss           | 0.072       |\n",
      "-----------------------------------------\n",
      "-----------------------------------------\n",
      "| rollout/                |             |\n",
      "|    ep_len_mean          | 175         |\n",
      "|    ep_rew_mean          | 1.65        |\n",
      "| time/                   |             |\n",
      "|    fps                  | 111         |\n",
      "|    iterations           | 5           |\n",
      "|    time_elapsed         | 91          |\n",
      "|    total_timesteps      | 10240       |\n",
      "| train/                  |             |\n",
      "|    approx_kl            | 0.019091908 |\n",
      "|    clip_fraction        | 0.208       |\n",
      "|    clip_range           | 0.2         |\n",
      "|    entropy_loss         | -2.75       |\n",
      "|    explained_variance   | 0.488       |\n",
      "|    learning_rate        | 0.00025     |\n",
      "|    loss                 | -0.0216     |\n",
      "|    n_updates            | 40          |\n",
      "|    policy_gradient_loss | -0.0449     |\n",
      "|    value_loss           | 0.0971      |\n",
      "-----------------------------------------\n"
     ]
    },
    {
     "data": {
      "text/plain": [
       "<stable_baselines3.ppo.ppo.PPO at 0x76003717be80>"
      ]
     },
     "execution_count": 116,
     "metadata": {},
     "output_type": "execute_result"
    }
   ],
   "source": [
    "model = PPO(\"CnnPolicy\", env_vec, learning_rate = 2.5e-4, n_steps = 256, batch_size = 64, verbose = 1)\n",
    "\n",
    "model.learn(total_timesteps = 10000)"
   ]
  },
  {
   "cell_type": "code",
   "execution_count": 117,
   "id": "67bffd4b-1fb9-4677-9ea1-7e8708796035",
   "metadata": {},
   "outputs": [
    {
     "data": {
      "text/html": [],
      "text/plain": [
       "<IPython.core.display.HTML object>"
      ]
     },
     "metadata": {},
     "output_type": "display_data"
    },
    {
     "data": {
      "text/html": [
       "Tracking run with wandb version 0.22.2"
      ],
      "text/plain": [
       "<IPython.core.display.HTML object>"
      ]
     },
     "metadata": {},
     "output_type": "display_data"
    },
    {
     "data": {
      "text/html": [
       "Run data is saved locally in <code>/home/vmuser/Music/Crafter/wandb/run-20251018_180743-bztx0yul</code>"
      ],
      "text/plain": [
       "<IPython.core.display.HTML object>"
      ]
     },
     "metadata": {},
     "output_type": "display_data"
    },
    {
     "data": {
      "text/html": [
       "Syncing run <strong><a href='https://wandb.ai/reinforcement-learning-wits/Crafter/runs/bztx0yul' target=\"_blank\">good-energy-35</a></strong> to <a href='https://wandb.ai/reinforcement-learning-wits/Crafter' target=\"_blank\">Weights & Biases</a> (<a href='https://wandb.me/developer-guide' target=\"_blank\">docs</a>)<br>"
      ],
      "text/plain": [
       "<IPython.core.display.HTML object>"
      ]
     },
     "metadata": {},
     "output_type": "display_data"
    },
    {
     "data": {
      "text/html": [
       " View project at <a href='https://wandb.ai/reinforcement-learning-wits/Crafter' target=\"_blank\">https://wandb.ai/reinforcement-learning-wits/Crafter</a>"
      ],
      "text/plain": [
       "<IPython.core.display.HTML object>"
      ]
     },
     "metadata": {},
     "output_type": "display_data"
    },
    {
     "data": {
      "text/html": [
       " View run at <a href='https://wandb.ai/reinforcement-learning-wits/Crafter/runs/bztx0yul' target=\"_blank\">https://wandb.ai/reinforcement-learning-wits/Crafter/runs/bztx0yul</a>"
      ],
      "text/plain": [
       "<IPython.core.display.HTML object>"
      ]
     },
     "metadata": {},
     "output_type": "display_data"
    },
    {
     "name": "stderr",
     "output_type": "stream",
     "text": [
      "/home/vmuser/anaconda3/envs/crafter_env/lib/python3.10/site-packages/gym/utils/passive_env_checker.py:174: UserWarning: \u001b[33mWARN: Future gym versions will require that `Env.reset` can be passed a `seed` instead of using `Env.seed` for resetting the environment random number generator.\u001b[0m\n",
      "  logger.warn(\n",
      "/home/vmuser/anaconda3/envs/crafter_env/lib/python3.10/site-packages/gym/utils/passive_env_checker.py:187: UserWarning: \u001b[33mWARN: Future gym versions will require that `Env.reset` can be passed `options` to allow the environment initialisation to be passed additional information.\u001b[0m\n",
      "  logger.warn(\n",
      "/home/vmuser/anaconda3/envs/crafter_env/lib/python3.10/site-packages/gym/utils/passive_env_checker.py:195: UserWarning: \u001b[33mWARN: The result returned by `env.reset()` was not a tuple of the form `(obs, info)`, where `obs` is a observation and `info` is a dictionary containing additional information. Actual type: `<class 'numpy.ndarray'>`\u001b[0m\n",
      "  logger.warn(\n",
      "/home/vmuser/anaconda3/envs/crafter_env/lib/python3.10/site-packages/gym/utils/passive_env_checker.py:219: DeprecationWarning: \u001b[33mWARN: Core environment is written in old step API which returns one bool instead of two. It is recommended to rewrite the environment with new step API. \u001b[0m\n",
      "  logger.deprecation(\n"
     ]
    },
    {
     "data": {
      "text/html": [],
      "text/plain": [
       "<IPython.core.display.HTML object>"
      ]
     },
     "metadata": {},
     "output_type": "display_data"
    },
    {
     "data": {
      "text/html": [
       "<br>    <style><br>        .wandb-row {<br>            display: flex;<br>            flex-direction: row;<br>            flex-wrap: wrap;<br>            justify-content: flex-start;<br>            width: 100%;<br>        }<br>        .wandb-col {<br>            display: flex;<br>            flex-direction: column;<br>            flex-basis: 100%;<br>            flex: 1;<br>            padding: 10px;<br>        }<br>    </style><br><div class=\"wandb-row\"><div class=\"wandb-col\"><h3>Run history:</h3><br/><table class=\"wandb\"><tr><td>collect_coal</td><td>▁▁▁▁▁▁▁▁▁▁▁▁▁▁▁▁▁▁▁▁▁▁▁▁▁▁▁▁▁▁▁▁▁▁▁▁▁▁▁▁</td></tr><tr><td>collect_diamond</td><td>▁▁▁▁▁▁▁▁▁▁▁▁▁▁▁▁▁▁▁▁▁▁▁▁▁▁▁▁▁▁▁▁▁▁▁▁▁▁▁▁</td></tr><tr><td>collect_drink</td><td>▁▁▁▁▁▁▁▁▁▁▁▁▁▁▁▁▁▁▁▁▁▁▁▁▁▁▁▁▁▁▁▁▁▁▁▁▁▁▁▁</td></tr><tr><td>collect_iron</td><td>▁▁▁▁▁▁▁▁▁▁▁▁▁▁▁▁▁▁▁▁▁▁▁▁▁▁▁▁▁▁▁▁▁▁▁▁▁▁▁▁</td></tr><tr><td>collect_sapling</td><td>▁▁▁▁▁▁▁▁▁▁▁▁▁▁▁▁▁▁██████████████████████</td></tr><tr><td>collect_stone</td><td>▁▁▁▁▁▁▁▁▁▁▁▁▁▁▁▁▁▁▁▁▁▁▁▁▁▁▁▁▁▁▁▁▁▁▁▁▁▁▁▁</td></tr><tr><td>collect_wood</td><td>▁▁▁▁▁▁▁▁▁▁▁▁▁▁▁▁▁▁▁▁▁▁▁▁▁▁▁▁▁▁▁▁▁▁▁▁▁▁▁▁</td></tr><tr><td>defeat_skeleton</td><td>▁▁▁▁▁▁▁▁▁▁▁▁▁▁▁▁▁▁▁▁▁▁▁▁▁▁▁▁▁▁▁▁▁▁▁▁▁▁▁▁</td></tr><tr><td>defeat_zombie</td><td>▁▁▁▁▁▁▁▁▁▁▁▁▁▁▁▁▁▁▁▁▁▁▁▁▁▁▁▁▁▁▁▁▁▁▁▁▁▁▁▁</td></tr><tr><td>eat_cow</td><td>▁▁▁▁▁▁▁▁▁▁▁▁▁▁▁▁▁▁▁▁▁▁▁▁▁▁▁▁▁▁▁▁▁▁▁▁▁▁▁▁</td></tr><tr><td>+13</td><td>...</td></tr></table><br/></div><div class=\"wandb-col\"><h3>Run summary:</h3><br/><table class=\"wandb\"><tr><td>collect_coal</td><td>0</td></tr><tr><td>collect_diamond</td><td>0</td></tr><tr><td>collect_drink</td><td>0</td></tr><tr><td>collect_iron</td><td>0</td></tr><tr><td>collect_sapling</td><td>2</td></tr><tr><td>collect_stone</td><td>0</td></tr><tr><td>collect_wood</td><td>0</td></tr><tr><td>defeat_skeleton</td><td>0</td></tr><tr><td>defeat_zombie</td><td>0</td></tr><tr><td>eat_cow</td><td>0</td></tr><tr><td>+13</td><td>...</td></tr></table><br/></div></div>"
      ],
      "text/plain": [
       "<IPython.core.display.HTML object>"
      ]
     },
     "metadata": {},
     "output_type": "display_data"
    },
    {
     "data": {
      "text/html": [
       " View run <strong style=\"color:#cdcd00\">good-energy-35</strong> at: <a href='https://wandb.ai/reinforcement-learning-wits/Crafter/runs/bztx0yul' target=\"_blank\">https://wandb.ai/reinforcement-learning-wits/Crafter/runs/bztx0yul</a><br> View project at: <a href='https://wandb.ai/reinforcement-learning-wits/Crafter' target=\"_blank\">https://wandb.ai/reinforcement-learning-wits/Crafter</a><br>Synced 5 W&B file(s), 0 media file(s), 0 artifact file(s) and 0 other file(s)"
      ],
      "text/plain": [
       "<IPython.core.display.HTML object>"
      ]
     },
     "metadata": {},
     "output_type": "display_data"
    },
    {
     "data": {
      "text/html": [
       "Find logs at: <code>./wandb/run-20251018_180743-bztx0yul/logs</code>"
      ],
      "text/plain": [
       "<IPython.core.display.HTML object>"
      ]
     },
     "metadata": {},
     "output_type": "display_data"
    }
   ],
   "source": [
    "e = init_env()\n",
    "evaluation_episode(e, model, {})"
   ]
  },
  {
   "cell_type": "code",
   "execution_count": null,
   "id": "47d1b27d-d73c-44f0-a3ad-5497915c3d77",
   "metadata": {},
   "outputs": [],
   "source": []
  },
  {
   "cell_type": "code",
   "execution_count": null,
   "id": "7e9db4c0-f553-4728-8fc5-90b785ce95e0",
   "metadata": {},
   "outputs": [],
   "source": []
  },
  {
   "cell_type": "code",
   "execution_count": null,
   "id": "ed766e6e-bce1-4c06-b8a4-aea57f004ea6",
   "metadata": {},
   "outputs": [],
   "source": []
  },
  {
   "cell_type": "code",
   "execution_count": null,
   "id": "e35636d0-59b1-47d9-a44a-9509b395c4dd",
   "metadata": {},
   "outputs": [],
   "source": []
  }
 ],
 "metadata": {
  "kernelspec": {
   "display_name": "Python 3 (ipykernel)",
   "language": "python",
   "name": "python3"
  },
  "language_info": {
   "codemirror_mode": {
    "name": "ipython",
    "version": 3
   },
   "file_extension": ".py",
   "mimetype": "text/x-python",
   "name": "python",
   "nbconvert_exporter": "python",
   "pygments_lexer": "ipython3",
   "version": "3.10.18"
  }
 },
 "nbformat": 4,
 "nbformat_minor": 5
}
