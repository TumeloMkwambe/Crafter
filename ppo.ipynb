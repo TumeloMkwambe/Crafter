{
 "cells": [
  {
   "cell_type": "code",
   "execution_count": 3,
   "id": "a7312626-916f-4327-a937-a4df977808fe",
   "metadata": {},
   "outputs": [],
   "source": []
  },
  {
   "cell_type": "code",
   "execution_count": 4,
   "id": "e01fdf62-05f8-4101-8807-75c1b3782452",
   "metadata": {},
   "outputs": [],
   "source": []
  },
  {
   "cell_type": "code",
   "execution_count": 5,
   "id": "530b25f6-22dc-445b-a90e-2a4c5f537b1e",
   "metadata": {},
   "outputs": [],
   "source": [
    "def image_display(img):\n",
    "    \n",
    "    plt.figure(figsize = (6, 6))\n",
    "    \n",
    "    plt.imshow(cv2.cvtColor(img, cv2.COLOR_BGR2RGB))\n",
    "    \n",
    "    plt.axis('off')\n",
    "    \n",
    "    plt.show()"
   ]
  },
  {
   "cell_type": "code",
   "execution_count": 6,
   "id": "9b8106b2-9433-4ada-bcc2-795f1b9b3879",
   "metadata": {},
   "outputs": [],
   "source": []
  },
  {
   "cell_type": "code",
   "execution_count": 7,
   "id": "f46be44f-dd64-46c4-9c36-c742b0779a85",
   "metadata": {},
   "outputs": [],
   "source": []
  },
  {
   "cell_type": "code",
   "execution_count": 182,
   "id": "8e79a89b-845e-4261-b152-3e5d2a8163e8",
   "metadata": {},
   "outputs": [],
   "source": [
    "import torch"
   ]
  },
  {
   "cell_type": "code",
   "execution_count": 183,
   "id": "ab244b37-7118-46d1-bb67-6ec87f4f20d1",
   "metadata": {},
   "outputs": [],
   "source": [
    "class PPO:\n",
    "\n",
    "    def __init__(self, vec_env, model, n_steps):\n",
    "        \n",
    "        self.vec_env = vec_env\n",
    "        self.model = model\n",
    "        self.n_steps = n_steps\n",
    "\n",
    "        self.data = []\n",
    "        self.count_steps = 0\n",
    "\n",
    "    def observation_preprocessing(self, observations):\n",
    "        \n",
    "        observations = torch.tensor(observations)\n",
    "        observations = observations.permute(0, 3, 1, 2) # from [N, H, W, C] to [N, C, H, W]\n",
    "        observations = observations.float() / 255.0\n",
    "        \n",
    "        return observations\n",
    "\n",
    "    def data_collection(self):\n",
    "        \n",
    "        observations = self.vec_env.reset()\n",
    "        \n",
    "        while self.count_steps < self.n_steps:    \n",
    "            \n",
    "            prev_observations = self.observation_preprocessing(observations)\n",
    "            \n",
    "            action_distros, values = self.model(prev_observations)\n",
    "            \n",
    "            actions = action_distros.argmax(dim = -1, keepdim = True)\n",
    "            \n",
    "            action_probs = action_distros.gather(dim = -1, index = actions)\n",
    "            \n",
    "            log_action_probs = torch.log(action_probs)\n",
    "            \n",
    "            observations, rewards, done, info = self.vec_env.step(actions) # consider using info for training networks\n",
    "            \n",
    "            self.data.append([prev_observations, actions, log_action_probs, values, rewards, done])\n",
    "            \n",
    "            self.count_steps += self.vec_env.num_envs\n"
   ]
  },
  {
   "cell_type": "code",
   "execution_count": null,
   "id": "f89a8ee9-d473-4d25-ab8a-54a89d94833a",
   "metadata": {},
   "outputs": [],
   "source": []
  },
  {
   "cell_type": "code",
   "execution_count": null,
   "id": "e35636d0-59b1-47d9-a44a-9509b395c4dd",
   "metadata": {},
   "outputs": [],
   "source": []
  },
  {
   "cell_type": "code",
   "execution_count": null,
   "id": "1f8008c7-daa1-4358-93eb-b0382d5c6b76",
   "metadata": {},
   "outputs": [],
   "source": []
  }
 ],
 "metadata": {
  "kernelspec": {
   "display_name": "Python 3 (ipykernel)",
   "language": "python",
   "name": "python3"
  },
  "language_info": {
   "codemirror_mode": {
    "name": "ipython",
    "version": 3
   },
   "file_extension": ".py",
   "mimetype": "text/x-python",
   "name": "python",
   "nbconvert_exporter": "python",
   "pygments_lexer": "ipython3",
   "version": "3.10.18"
  }
 },
 "nbformat": 4,
 "nbformat_minor": 5
}
